{
  "nbformat": 4,
  "nbformat_minor": 0,
  "metadata": {
    "colab": {
      "provenance": []
    },
    "kernelspec": {
      "name": "python3",
      "display_name": "Python 3"
    },
    "language_info": {
      "name": "python"
    }
  },
  "cells": [
    {
      "cell_type": "markdown",
      "source": [
        "**Assignment: Basics of Python**"
      ],
      "metadata": {
        "id": "L9xsAH4QNUgH"
      }
    },
    {
      "cell_type": "markdown",
      "source": [
        "1. What is Python, and why is it popular?\n",
        "   - Python is a programming language that is used for a variety of tasks, including web development, data science, and machine learning.\n",
        "   It is popular because of the follwoing reasons:\n",
        "   a- Ease of learning.\n",
        "   b- Versatile in nature.\n",
        "   c- Huge active community and alot of libraries.\n",
        "\n",
        "2. What is an interpreter in Python?\n",
        "   - A Python interpreter is a program that reads and executes Python code.\n",
        "\n",
        "3. What are pre-defined keywords in Python?\n",
        "  - These are words that have a predetermined meaning and are part of the syntax of a programming language. They are also known as reserved words.\n",
        "  for example: if, else, while, for, True, False, etc.\n",
        "\n",
        "4. Can keywords be used as variable names?\n",
        "  - No, the keywords can nver be used as variable names as variable names are identifiers.\n",
        "\n",
        "5. What is mutability in Python?\n",
        "  -  Mutability is the ability of an object to change after it has been created.\n",
        "\n",
        "6. Why are my_lists mutable, but tuples are immutable?\n",
        "  - Lists are mutable in nature beacuse lists are typically allocated with extra memory to accommodate potential changes in size. This dynamic allocation allows elements to be added or removed. On the other hand Tuples, being immutable, have a fixed size and memory allocation, preventing changes to their content.\n",
        "\n",
        "7. What is the difference between “==” and “is” operators in Python?\n",
        "  - \"==\" (Equality operator) compares the value of two objects, whereas, \"is\" (Identity operator) compares the memory address of two objects.\n",
        "\n",
        "8. What are logical operators in Python?\n",
        "  - Logical operators are used to combine or modify Boolean expressions (expressions that evaluate to True or False).\n",
        "  Logical operators has three types: \"and\", \"or\" \"not\".\n",
        "\n",
        "9. What is type casting in Python?\n",
        "  - Type casting in Python is the process of changing a variable's data type from one type to another. Type casting has two types: Implicit and Explicit.\n",
        "\n",
        "10. What is the difference between implicit and explicit type casting?\n",
        "   - Implicit type casting is when a programming language automatically converts one data type to another, while explicit type casting is when a programmer manually converts one data type to another.\n",
        "\n",
        "11. What is the purpose of conditional statements in Python?\n",
        "   - Conditional statements in Python control the flow of a program by executing code based on certain conditions.\n",
        "   If the condition is true, the code block associated with that condition is executed.\n",
        "   If the condition is false, the code block associated with that condition is not executed.\n",
        "\n",
        "12. How does the elif statement work?\n",
        "   - It can be used in conditional statements to check for multiple conditions.For example, if the first condition is false, it moves on to the next “elif” statement to check if that condition is true.\n",
        "\n",
        "13. What is the difference between for and while loops?\n",
        "   - The main difference between a for loop and a while loop is the number of times the code is repeated. A for loop is used when the number of iterations is known, while a while loop is used when the number of iterations is unknown.\n",
        "\n",
        "14. Describe a scenario where a while loop is more suitable than a for loop.\n",
        "   - If you want the loop to break based on a condition other than the number of times it runs, 'while loop' is more preferable over a 'for loop'."
      ],
      "metadata": {
        "id": "_Ak5f3R6Ncoe"
      }
    },
    {
      "cell_type": "code",
      "execution_count": 1,
      "metadata": {
        "colab": {
          "base_uri": "https://localhost:8080/"
        },
        "id": "34t8Gej9NTZT",
        "outputId": "6ad543d2-3ada-4d32-9475-7bddcc7dd2f7"
      },
      "outputs": [
        {
          "output_type": "stream",
          "name": "stdout",
          "text": [
            "Hello, world\n"
          ]
        }
      ],
      "source": [
        "# Write a Python program to print \"Hello, World!_\n",
        "print(\"Hello, world\")"
      ]
    },
    {
      "cell_type": "code",
      "source": [
        "#Write a Python program that displays your name and age\n",
        "name = input(\"Enter your name: \")\n",
        "age = int(input(\"Enter your age: \"))\n",
        "print(\"Name:\", name)\n",
        "print(\"Age:\", age)\n",
        "\n"
      ],
      "metadata": {
        "colab": {
          "base_uri": "https://localhost:8080/"
        },
        "id": "GKdP9g5LN6jE",
        "outputId": "d64dc1d0-4a5c-4811-9dd7-98a06bbe7dfc"
      },
      "execution_count": 2,
      "outputs": [
        {
          "output_type": "stream",
          "name": "stdout",
          "text": [
            "Enter your name: Shubhang\n",
            "Enter your age: 23\n",
            "Name: Shubhang\n",
            "Age: 23\n"
          ]
        }
      ]
    },
    {
      "cell_type": "code",
      "source": [
        "# Write code to print all the pre-defined keywords in Python using the keyword library\n",
        "import keyword\n",
        "print(\"Pre-defined keywords in Python:\")\n",
        "for keyword in keyword.kwlist:\n",
        "    print(keyword)"
      ],
      "metadata": {
        "colab": {
          "base_uri": "https://localhost:8080/"
        },
        "id": "WDRa41MQOF0D",
        "outputId": "1213880d-14ff-4273-a787-10625341d19c"
      },
      "execution_count": 3,
      "outputs": [
        {
          "output_type": "stream",
          "name": "stdout",
          "text": [
            "Pre-defined keywords in Python:\n",
            "False\n",
            "None\n",
            "True\n",
            "and\n",
            "as\n",
            "assert\n",
            "async\n",
            "await\n",
            "break\n",
            "class\n",
            "continue\n",
            "def\n",
            "del\n",
            "elif\n",
            "else\n",
            "except\n",
            "finally\n",
            "for\n",
            "from\n",
            "global\n",
            "if\n",
            "import\n",
            "in\n",
            "is\n",
            "lambda\n",
            "nonlocal\n",
            "not\n",
            "or\n",
            "pass\n",
            "raise\n",
            "return\n",
            "try\n",
            "while\n",
            "with\n",
            "yield\n"
          ]
        }
      ]
    },
    {
      "cell_type": "code",
      "source": [
        "# Write a program that checks if a given word is a Python keyword\n",
        "import keyword\n",
        "word = input(\"Enter a word: \")\n",
        "if keyword.iskeyword(word):\n",
        "    print(f\"{word} is a Python keyword.\")\n",
        "else:\n",
        "    print(f\"{word} is not a Python keyword.\")"
      ],
      "metadata": {
        "colab": {
          "base_uri": "https://localhost:8080/"
        },
        "id": "2DtHVhxLOO4a",
        "outputId": "4abb9542-e934-49dc-f0da-8c8514290a2c"
      },
      "execution_count": 4,
      "outputs": [
        {
          "output_type": "stream",
          "name": "stdout",
          "text": [
            "Enter a word: while\n",
            "while is a Python keyword.\n"
          ]
        }
      ]
    },
    {
      "cell_type": "code",
      "source": [
        "#Create a list and tuple in Python, and demonstrate how attempting to change an element works differently for each\n",
        "my_list = [1, 2, 3]\n",
        "my_tuple = (1, 2, 3)\n",
        "my_list[0] = 4 # attemptin to change the list\n",
        "print(my_list)# output will be [4,2,3] because lists are mutable in nature.\n",
        "\n",
        "my_tuple[0] = 4 #attempting to change the tuple\n",
        "print(my_tuple) # it will show an error because tuples are immutable and cannot be changed."
      ],
      "metadata": {
        "colab": {
          "base_uri": "https://localhost:8080/"
        },
        "id": "F4478CQTOSoP",
        "outputId": "1a258d8b-3537-4cc2-f674-d94d8eb64e6f"
      },
      "execution_count": 5,
      "outputs": [
        {
          "output_type": "stream",
          "name": "stdout",
          "text": [
            "[4, 2, 3]\n"
          ]
        }
      ]
    },
    {
      "cell_type": "code",
      "source": [
        "#Write a function to demonstrate the behavior of mutable and immutable arguments\n",
        " # For mutable arguments\n",
        "numbers = [1, 2, 3]\n",
        "numbers.append(4)  # Modify the list by adding 4\n",
        "print(numbers)\n",
        "\n",
        "# For immutable arguments\n",
        "message = \"Hello\"\n",
        "new_message = message + \" World\"  # Create a new string\n",
        "print(new_message)"
      ],
      "metadata": {
        "colab": {
          "base_uri": "https://localhost:8080/"
        },
        "id": "EWbe75ajOdSr",
        "outputId": "6a0156c6-66a9-480b-b637-1897a6e14c34"
      },
      "execution_count": 6,
      "outputs": [
        {
          "output_type": "stream",
          "name": "stdout",
          "text": [
            "[1, 2, 3, 4]\n",
            "Hello World\n"
          ]
        }
      ]
    },
    {
      "cell_type": "code",
      "source": [
        "#Write a program to demonstrate the use of logical operators\n",
        "a = True\n",
        "b = False\n",
        "print(\"a and b is\",a and b)\n",
        "print(\"a or b is\",a or b)\n",
        "print(\"not a is\",not a)"
      ],
      "metadata": {
        "colab": {
          "base_uri": "https://localhost:8080/"
        },
        "id": "wuppvihlOk0m",
        "outputId": "4cdc634a-e67d-45ad-f0f6-b12a36682875"
      },
      "execution_count": 7,
      "outputs": [
        {
          "output_type": "stream",
          "name": "stdout",
          "text": [
            "a and b is False\n",
            "a or b is True\n",
            "not a is False\n"
          ]
        }
      ]
    },
    {
      "cell_type": "code",
      "source": [
        "# Write a Python program to convert user input from string to integer, float, and boolean types\n",
        "string_input = input(\"Enter a string: \")\n",
        "integer_output = int(string_input)\n",
        "float_output = float(string_input)\n",
        "boolean_output = bool(string_input)\n",
        "print(\"String input:\", string_input)\n",
        "print(\"Integer output:\", integer_output)\n",
        "print(\"Float output:\", float_output)\n",
        "print(\"Boolean output:\", boolean_output)"
      ],
      "metadata": {
        "colab": {
          "base_uri": "https://localhost:8080/"
        },
        "id": "CGR_rEvNOoeY",
        "outputId": "c3968052-dafb-4798-a2f7-3e2debf249db"
      },
      "execution_count": 8,
      "outputs": [
        {
          "output_type": "stream",
          "name": "stdout",
          "text": [
            "Enter a string: 2\n",
            "String input: 2\n",
            "Integer output: 2\n",
            "Float output: 2.0\n",
            "Boolean output: True\n"
          ]
        }
      ]
    },
    {
      "cell_type": "code",
      "source": [
        "#Write code to demonstrate type casting with list elements\n",
        "my_list = [1, 2, 3, 4, 5]\n",
        "my_list[0] = float(my_list[0]) # changing the first element from integer to float\n",
        "print(my_list)\n",
        "my_list[1] = str(my_list[1]) # changing the second element from integer to string\n",
        "print(my_list)\n",
        "my_list[2] = bool(my_list[2]) # changing the third element from integer to boolean\n",
        "print(my_list)"
      ],
      "metadata": {
        "colab": {
          "base_uri": "https://localhost:8080/"
        },
        "id": "aCwcitMPOyMa",
        "outputId": "75bf7dd9-e5d7-4b16-d0c5-508a5af51ce8"
      },
      "execution_count": 9,
      "outputs": [
        {
          "output_type": "stream",
          "name": "stdout",
          "text": [
            "[1.0, 2, 3, 4, 5]\n",
            "[1.0, '2', 3, 4, 5]\n",
            "[1.0, '2', True, 4, 5]\n"
          ]
        }
      ]
    },
    {
      "cell_type": "code",
      "source": [
        "# Write a program that checks if a number is positive, negative, or zero\n",
        "number = int(input('Enter a number'))\n",
        "if number > 0:\n",
        "  print('The number is positive')\n",
        "elif number < 0:\n",
        "    print('The number is negative')\n",
        "else:\n",
        "      print('The number is zero')"
      ],
      "metadata": {
        "colab": {
          "base_uri": "https://localhost:8080/"
        },
        "id": "I4k2_dD_O3v-",
        "outputId": "d67dc975-8ff5-4d69-fd97-342a0b9c095c"
      },
      "execution_count": 10,
      "outputs": [
        {
          "output_type": "stream",
          "name": "stdout",
          "text": [
            "Enter a number5\n",
            "The number is positive\n"
          ]
        }
      ]
    },
    {
      "cell_type": "code",
      "source": [
        "#  Write a for loop to print numbers from 1 to 10\n",
        "for i in range(1, 11):\n",
        "    print(i)"
      ],
      "metadata": {
        "colab": {
          "base_uri": "https://localhost:8080/"
        },
        "id": "Lc9dpfgxO8AH",
        "outputId": "9af6219a-3884-45ef-ff62-dc2042b5f355"
      },
      "execution_count": 11,
      "outputs": [
        {
          "output_type": "stream",
          "name": "stdout",
          "text": [
            "1\n",
            "2\n",
            "3\n",
            "4\n",
            "5\n",
            "6\n",
            "7\n",
            "8\n",
            "9\n",
            "10\n"
          ]
        }
      ]
    },
    {
      "cell_type": "code",
      "source": [
        "# Write a Python program to find the sum of all even numbers between 1 and 50\n",
        "sum = 0\n",
        "for i in range(2, 51, 2):\n",
        "  sum +=i\n",
        "print(\"The sum of all even numbers between 1 to 50 is:\", sum)\n"
      ],
      "metadata": {
        "colab": {
          "base_uri": "https://localhost:8080/"
        },
        "id": "7H6dldvxHO5k",
        "outputId": "cbd9efc4-7639-4cfd-9a03-1d7ef373fe26"
      },
      "execution_count": 12,
      "outputs": [
        {
          "output_type": "stream",
          "name": "stdout",
          "text": [
            "The sum of all even numbers between 1 to 50 is: 650\n"
          ]
        }
      ]
    },
    {
      "cell_type": "code",
      "source": [
        "#Write a program to reverse a string using a while loop\n",
        "string = input(\"Enter a string: \")\n",
        "reversed_string = \"\"\n",
        "i = len(string) - 1\n",
        "while i >= 0:\n",
        "    reversed_string += string[i]\n",
        "    i -= 1\n",
        "print(\"The reversed string is:\", reversed_string)"
      ],
      "metadata": {
        "colab": {
          "base_uri": "https://localhost:8080/"
        },
        "id": "6w9cDdkfPIk6",
        "outputId": "628ce54b-7891-4ae0-f13b-d36c875abd0f"
      },
      "execution_count": 13,
      "outputs": [
        {
          "output_type": "stream",
          "name": "stdout",
          "text": [
            "Enter a string: 4\n",
            "The reversed string is: 4\n"
          ]
        }
      ]
    },
    {
      "cell_type": "code",
      "source": [
        "#Write a Python program to calculate the factorial of a number provided by the user using a while loop.\n",
        "fact = 1\n",
        "i = 1\n",
        "\n",
        "# To take input from the user\n",
        "num = int(input(\"Enter a number: \"))\n",
        "\n",
        "# check if the number is negative or positive\n",
        "if num < 0:\n",
        "    print(\"Sorry, factorial does not exist for negative numbers\")\n",
        "else:\n",
        "    while i <= num:\n",
        "        fact = fact*i\n",
        "        i = i + 1\n",
        "    print(\"The factorial of\", num, \"is\", fact)"
      ],
      "metadata": {
        "colab": {
          "base_uri": "https://localhost:8080/"
        },
        "id": "MsVqTkuGPNGH",
        "outputId": "d79ca630-cf65-46fd-8ff2-c0f2ac40e6b1"
      },
      "execution_count": 14,
      "outputs": [
        {
          "output_type": "stream",
          "name": "stdout",
          "text": [
            "Enter a number: 8\n",
            "The factorial of 8 is 40320\n"
          ]
        }
      ]
    }
  ]
}